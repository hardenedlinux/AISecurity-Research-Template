{
 "cells": [
  {
   "cell_type": "markdown",
   "id": "b034a776-f797-45f0-9361-2d9071366a12",
   "metadata": {},
   "source": [
    "---\n",
    "title: \"OpenAIPy Test\"\n",
    "format:\n",
    "  html:\n",
    "    code-fold: false\n",
    "jupyter: python-data-science\n",
    "execute: \n",
    "  enabled: true\n",
    "---"
   ]
  },
  {
   "cell_type": "code",
   "execution_count": 1,
   "id": "a8e2231a-4d1a-456d-828b-6f0ebbcef1ac",
   "metadata": {},
   "outputs": [],
   "source": [
    "from scipy.special import comb"
   ]
  },
  {
   "cell_type": "code",
   "execution_count": 2,
   "id": "839f5f20-13c2-4a3d-b89b-ec86a5d4ef5e",
   "metadata": {},
   "outputs": [],
   "source": [
    "com = comb(5, 2, exact = False, repetition=True)"
   ]
  },
  {
   "cell_type": "code",
   "execution_count": 3,
   "id": "564c1410-e30b-406e-b56d-ce4a58a3bc7a",
   "metadata": {},
   "outputs": [
    {
     "data": {
      "text/plain": [
       "15.0"
      ]
     },
     "execution_count": 21,
     "metadata": {},
     "output_type": "execute_result"
    }
   ],
   "source": [
    "com"
   ]
  },
  {
   "cell_type": "code",
   "execution_count": 4,
   "id": "c678edd8-6f0e-46ee-9bf8-7ad185ad75bb",
   "metadata": {},
   "outputs": [],
   "source": [
    "import os\n",
    "from openai import OpenAI\n",
    "\n",
    "client = OpenAI(api_key = os.getenv(\"OPENAI_API_KEY\"))"
   ]
  },
  {
   "cell_type": "code",
   "execution_count": 5,
   "id": "32fb61dd-6cb1-4f21-98f1-282bbaedf99f",
   "metadata": {},
   "outputs": [],
   "source": [
    "completion = client.chat.completions.create(\n",
    "  model=\"gpt-4\",\n",
    "  messages=[\n",
    "    {\"role\": \"system\", \"content\": \"You are a Security Enginner\"},\n",
    "  ]\n",
    ")"
   ]
  },
  {
   "cell_type": "code",
   "execution_count": 6,
   "id": "e8f66528-0a3b-4009-81ed-75ba94e80bf0",
   "metadata": {},
   "outputs": [
    {
     "data": {
      "text/plain": [
       "ChatCompletionMessage(content=\"As a Security Engineer, I am responsible for the protection of computer systems and networks from threats such as hacking, viruses, and other damaging cyber attacks. My duties include creating new safety measures and maintaining the security of existing systems.\\n\\nI spend the majority of my time analysing, testing, and implementing network infrastructure. I often work in tandem with a team of other engineers and IT professionals to diagnose and correct any potential vulnerabilities within our systems. \\n\\nI also investigate any attempted or successful attacks on my organization's digital systems. After identifying the source and nature of these threats, I then use this information to improve our security measures and prevent similar future attacks.\\n\\nFurthermore, I also attend regular meeting with other key members of the organization such as managers and executives. In these meetings, I provide vital updates concerning the security status of our systems. On occasion, I may also provide training to staff members regarding safe practices when using digital systems.\\n\\nAs a Security Engineer, I need to keep up with the latest trends, tools and best practices in the cybersecurity field. A major part of my role involves continuous learning and adaptation to new threats and security solutions.\", role='assistant', function_call=None, tool_calls=None)"
      ]
     },
     "execution_count": 24,
     "metadata": {},
     "output_type": "execute_result"
    }
   ],
   "source": [
    "completion.choices[0].message"
   ]
  },
  {
   "cell_type": "code",
   "execution_count": 7,
   "id": "d4d3f04c-e0f0-41f3-9d19-ed2e772c0aa3",
   "metadata": {},
   "outputs": [],
   "source": []
  }
 ],
 "metadata": {
  "kernelspec": {
   "display_name": "python-data-science kernel",
   "language": "python",
   "name": "python-data-science"
  },
  "language_info": {
   "codemirror_mode": {
    "name": "ipython",
    "version": 3
   },
   "file_extension": ".py",
   "mimetype": "text/x-python",
   "name": "python",
   "nbconvert_exporter": "python",
   "pygments_lexer": "ipython3",
   "version": "3.11.6"
  }
 },
 "nbformat": 4,
 "nbformat_minor": 5
}
