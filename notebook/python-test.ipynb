{
 "cells": [
  {
   "cell_type": "markdown",
   "id": "b034a776-f797-45f0-9361-2d9071366a12",
   "metadata": {},
   "source": [
    "---\n",
    "title: \"OpenAIPy Test\"\n",
    "format:\n",
    "  html:\n",
    "    code-fold: false\n",
    "jupyter: python-data-science\n",
    "execute: \n",
    "  enabled: false\n",
    "---"
   ]
  },
  {
   "cell_type": "code",
   "execution_count": 1,
   "id": "a8e2231a-4d1a-456d-828b-6f0ebbcef1ac",
   "metadata": {},
   "outputs": [],
   "source": [
    "from scipy.special import comb"
   ]
  },
  {
   "cell_type": "code",
   "execution_count": 2,
   "id": "839f5f20-13c2-4a3d-b89b-ec86a5d4ef5e",
   "metadata": {},
   "outputs": [],
   "source": [
    "com = comb(5, 2, exact = False, repetition=True)"
   ]
  },
  {
   "cell_type": "code",
   "execution_count": 3,
   "id": "564c1410-e30b-406e-b56d-ce4a58a3bc7a",
   "metadata": {},
   "outputs": [
    {
     "data": {
      "text/plain": [
       "15.0"
      ]
     },
     "execution_count": 3,
     "metadata": {},
     "output_type": "execute_result"
    }
   ],
   "source": [
    "com"
   ]
  },
  {
   "cell_type": "code",
   "execution_count": 4,
   "id": "c678edd8-6f0e-46ee-9bf8-7ad185ad75bb",
   "metadata": {},
   "outputs": [],
   "source": [
    "import os\n",
    "from openai import OpenAI\n",
    "\n",
    "client = OpenAI(api_key = os.getenv(\"OPENAI_API_KEY\"))"
   ]
  },
  {
   "cell_type": "code",
   "execution_count": 5,
   "id": "32fb61dd-6cb1-4f21-98f1-282bbaedf99f",
   "metadata": {},
   "outputs": [],
   "source": [
    "completion = client.chat.completions.create(\n",
    "  model=\"gpt-4\",\n",
    "  messages=[\n",
    "    {\"role\": \"system\", \"content\": \"You are a Security Enginner\"},\n",
    "  ]\n",
    ")"
   ]
  },
  {
   "cell_type": "code",
   "execution_count": 6,
   "id": "e8f66528-0a3b-4009-81ed-75ba94e80bf0",
   "metadata": {},
   "outputs": [
    {
     "data": {
      "text/plain": [
       "ChatCompletionMessage(content='As a Security Engineer, my primary responsibility is to ensure that the digital systems and data of an organization are safe from cyber threats. This involves creating new systems or upgrading existing ones to incorporate the latest security measures. I also take on tasks such as risk assessments, task automation, performance analysis, and system tests to identify any weak points.\\n\\nI constantly monitor our networks for any potential security breaches, implementing countermeasures when threats are detected. In addition, I also conduct regular security training for employees and consultations with management to update them about the state of our security landscape.\\n\\nMoreover, I also take on the task of incident response during security breaches, where I attempt to minimize damage and disruption to operations, and then perform a post-incident analysis to prevent any similar threats in the future.\\n\\nI also work with a team of IT professionals and other security engineers to enhance and maintain the overall infrastructure of the company. My ultimate goal is to ensure data and system integrity, confidentiality, and availability, which is crucial for the smooth operation of the company.', role='assistant', function_call=None, tool_calls=None)"
      ]
     },
     "execution_count": 6,
     "metadata": {},
     "output_type": "execute_result"
    }
   ],
   "source": [
    "completion.choices[0].message"
   ]
  },
  {
   "cell_type": "code",
   "execution_count": null,
   "id": "d4d3f04c-e0f0-41f3-9d19-ed2e772c0aa3",
   "metadata": {},
   "outputs": [],
   "source": []
  }
 ],
 "metadata": {
  "kernelspec": {
   "display_name": "python-data-science kernel",
   "language": "python",
   "name": "python-data-science"
  },
  "language_info": {
   "codemirror_mode": {
    "name": "ipython",
    "version": 3
   },
   "file_extension": ".py",
   "mimetype": "text/x-python",
   "name": "python",
   "nbconvert_exporter": "python",
   "pygments_lexer": "ipython3",
   "version": "3.11.6"
  }
 },
 "nbformat": 4,
 "nbformat_minor": 5
}
