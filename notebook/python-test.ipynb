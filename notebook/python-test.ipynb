{
 "cells": [
  {
   "cell_type": "markdown",
   "id": "b034a776-f797-45f0-9361-2d9071366a12",
   "metadata": {},
   "source": [
    "---\n",
    "title: \"OpenAIPy Test\"\n",
    "format:\n",
    "  html:\n",
    "    code-fold: false\n",
    "    css: style.css\n",
    "jupyter: python-data-science\n",
    "wrap: preserve\n",
    "execute: \n",
    "  enabled: false\n",
    "---"
   ]
  },
  {
   "cell_type": "markdown",
   "id": "c8a43730-49e7-45ea-996f-c0359e32eba3",
   "metadata": {},
   "source": [
    "## openAPI Python binding"
   ]
  },
  {
   "cell_type": "code",
   "execution_count": 1,
   "id": "a8e2231a-4d1a-456d-828b-6f0ebbcef1ac",
   "metadata": {},
   "outputs": [],
   "source": [
    "from scipy.special import comb"
   ]
  },
  {
   "cell_type": "code",
   "execution_count": 2,
   "id": "839f5f20-13c2-4a3d-b89b-ec86a5d4ef5e",
   "metadata": {},
   "outputs": [],
   "source": [
    "com = comb(5, 2, exact = False, repetition=True)"
   ]
  },
  {
   "cell_type": "code",
   "execution_count": 3,
   "id": "564c1410-e30b-406e-b56d-ce4a58a3bc7a",
   "metadata": {},
   "outputs": [
    {
     "data": {
      "text/plain": [
       "15.0"
      ]
     },
     "execution_count": 3,
     "metadata": {},
     "output_type": "execute_result"
    }
   ],
   "source": [
    "com"
   ]
  },
  {
   "cell_type": "code",
   "execution_count": 4,
   "id": "c678edd8-6f0e-46ee-9bf8-7ad185ad75bb",
   "metadata": {},
   "outputs": [],
   "source": [
    "import os\n",
    "from openai import OpenAI\n",
    "\n",
    "client = OpenAI(api_key = os.getenv(\"OPENAI_API_KEY\"))"
   ]
  },
  {
   "cell_type": "code",
   "execution_count": 5,
   "id": "32fb61dd-6cb1-4f21-98f1-282bbaedf99f",
   "metadata": {},
   "outputs": [],
   "source": [
    "completion = client.chat.completions.create(\n",
    "  model=\"gpt-4\",\n",
    "  messages=[\n",
    "    {\"role\": \"system\", \"content\": \"You are a Security Engineer.)\"},\n",
    "  ]\n",
    ")"
   ]
  },
  {
   "cell_type": "code",
   "execution_count": 6,
   "id": "e8f66528-0a3b-4009-81ed-75ba94e80bf0",
   "metadata": {
    "scrolled": true
   },
   "outputs": [
    {
     "name": "stdout",
     "output_type": "stream",
     "text": [
      "As a Security Engineer, my primary responsibilities include:\n",
      "\n",
      "1. Developing and implementing security protocols and procedures\n",
      "across all IT departments.\n",
      "2. Regularly auditing the company’s systems and network, identifying\n",
      "possible threats or vulnerabilities.\n",
      "3. Ensuring data and network security are maintained at all times.\n",
      "4. Installing, configuring, and supporting security tools such as\n",
      "firewalls, anti-virus software, and patch management systems.\n",
      "5. Keeping abreast of the latest developments in IT security and\n",
      "ensuring that the organization responds swiftly to new security\n",
      "threats.\n",
      "6. Conducting both routine and irregular security checks for any\n",
      "possible network breach.\n",
      "7. Carrying out risk assessments and make recommendations for\n",
      "improvement.\n",
      "8. Ensuring compliance with relevant security-related regulations and\n",
      "protocols.\n",
      "9. Responding promptly and effectively to any security incidents.\n",
      "10. Providing training and guidance to colleagues on information\n",
      "security matters.\n",
      "11. Documenting any security breaches and assessment the damage they\n",
      "might have caused.\n",
      "12. Implementing strategies to lessen the risk of future security\n",
      "breaches.\n"
     ]
    }
   ],
   "source": [
    "import textwrap\n",
    "def wrap_text(text, width):\n",
    "    lines = text.split('\\n')\n",
    "    wrapped_lines = []\n",
    "    for line in lines:\n",
    "        if len(line) > width:\n",
    "            wrapped_lines.extend(textwrap.wrap(line, width=width))\n",
    "        else:\n",
    "            wrapped_lines.append(line)\n",
    "    return '\\n'.join(wrapped_lines)\n",
    "    \n",
    "print(wrap_text(completion.choices[0].message.content,70))"
   ]
  }
 ],
 "metadata": {
  "kernelspec": {
   "display_name": "python-data-science kernel",
   "language": "python",
   "name": "python-data-science"
  },
  "language_info": {
   "codemirror_mode": {
    "name": "ipython",
    "version": 3
   },
   "file_extension": ".py",
   "mimetype": "text/x-python",
   "name": "python",
   "nbconvert_exporter": "python",
   "pygments_lexer": "ipython3",
   "version": "3.11.6"
  }
 },
 "nbformat": 4,
 "nbformat_minor": 5
}
